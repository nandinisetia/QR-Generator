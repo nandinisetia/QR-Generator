{
 "cells": [
  {
   "cell_type": "code",
   "execution_count": 1,
   "id": "08465e6b",
   "metadata": {},
   "outputs": [
    {
     "name": "stdout",
     "output_type": "stream",
     "text": [
      "Collecting qrcode\n",
      "  Using cached qrcode-7.3.1.tar.gz (43 kB)\n",
      "Requirement already satisfied: colorama in c:\\users\\91870\\appdata\\local\\programs\\python\\python310\\lib\\site-packages (from qrcode) (0.4.4)\n",
      "Using legacy 'setup.py install' for qrcode, since package 'wheel' is not installed.\n",
      "Installing collected packages: qrcode\n",
      "    Running setup.py install for qrcode: started\n",
      "    Running setup.py install for qrcode: finished with status 'done'\n",
      "Successfully installed qrcode-7.3.1\n",
      "Note: you may need to restart the kernel to use updated packages.\n"
     ]
    },
    {
     "name": "stderr",
     "output_type": "stream",
     "text": [
      "WARNING: You are using pip version 21.2.4; however, version 22.1.2 is available.\n",
      "You should consider upgrading via the 'c:\\Users\\91870\\AppData\\Local\\Programs\\Python\\Python310\\python.exe -m pip install --upgrade pip' command.\n"
     ]
    }
   ],
   "source": [
    "pip install qrcode"
   ]
  },
  {
   "cell_type": "code",
   "execution_count": 2,
   "id": "3d6e524b",
   "metadata": {},
   "outputs": [],
   "source": [
    "from tkinter import *\n",
    "import qrcode"
   ]
  },
  {
   "cell_type": "code",
   "execution_count": 3,
   "id": "8f9619a2",
   "metadata": {},
   "outputs": [
    {
     "name": "stderr",
     "output_type": "stream",
     "text": [
      "Exception in Tkinter callback\n",
      "Traceback (most recent call last):\n",
      "  File \"c:\\Users\\91870\\AppData\\Local\\Programs\\Python\\Python310\\lib\\site-packages\\qrcode\\image\\pil.py\", line 5, in <module>\n",
      "    from PIL import Image, ImageDraw\n",
      "ModuleNotFoundError: No module named 'PIL'\n",
      "\n",
      "During handling of the above exception, another exception occurred:\n",
      "\n",
      "Traceback (most recent call last):\n",
      "  File \"c:\\Users\\91870\\AppData\\Local\\Programs\\Python\\Python310\\lib\\tkinter\\__init__.py\", line 1921, in __call__\n",
      "    return self.func(*args)\n",
      "  File \"C:\\Users\\91870\\AppData\\Local\\Temp\\ipykernel_4216\\3070232282.py\", line 14, in generate\n",
      "    qr=qrcode.make(text)\n",
      "  File \"c:\\Users\\91870\\AppData\\Local\\Programs\\Python\\Python310\\lib\\site-packages\\qrcode\\main.py\", line 13, in make\n",
      "    return qr.make_image()\n",
      "  File \"c:\\Users\\91870\\AppData\\Local\\Programs\\Python\\Python310\\lib\\site-packages\\qrcode\\main.py\", line 296, in make_image\n",
      "    from qrcode.image.pil import PilImage\n",
      "  File \"c:\\Users\\91870\\AppData\\Local\\Programs\\Python\\Python310\\lib\\site-packages\\qrcode\\image\\pil.py\", line 7, in <module>\n",
      "    import Image\n",
      "ModuleNotFoundError: No module named 'Image'\n",
      "Exception in Tkinter callback\n",
      "Traceback (most recent call last):\n",
      "  File \"c:\\Users\\91870\\AppData\\Local\\Programs\\Python\\Python310\\lib\\site-packages\\qrcode\\image\\pil.py\", line 5, in <module>\n",
      "    from PIL import Image, ImageDraw\n",
      "ModuleNotFoundError: No module named 'PIL'\n",
      "\n",
      "During handling of the above exception, another exception occurred:\n",
      "\n",
      "Traceback (most recent call last):\n",
      "  File \"c:\\Users\\91870\\AppData\\Local\\Programs\\Python\\Python310\\lib\\tkinter\\__init__.py\", line 1921, in __call__\n",
      "    return self.func(*args)\n",
      "  File \"C:\\Users\\91870\\AppData\\Local\\Temp\\ipykernel_4216\\3070232282.py\", line 14, in generate\n",
      "    qr=qrcode.make(text)\n",
      "  File \"c:\\Users\\91870\\AppData\\Local\\Programs\\Python\\Python310\\lib\\site-packages\\qrcode\\main.py\", line 13, in make\n",
      "    return qr.make_image()\n",
      "  File \"c:\\Users\\91870\\AppData\\Local\\Programs\\Python\\Python310\\lib\\site-packages\\qrcode\\main.py\", line 296, in make_image\n",
      "    from qrcode.image.pil import PilImage\n",
      "  File \"c:\\Users\\91870\\AppData\\Local\\Programs\\Python\\Python310\\lib\\site-packages\\qrcode\\image\\pil.py\", line 7, in <module>\n",
      "    import Image\n",
      "ModuleNotFoundError: No module named 'Image'\n"
     ]
    }
   ],
   "source": [
    "root=Tk()\n",
    "root.title(\"QR generator\")\n",
    "root.geometry(\"1000x550\")\n",
    "root.config(bg=\"#7F8487\")\n",
    "root.resizable(False,False)\n",
    "\n",
    "#----icon image------\n",
    "# image_icon=PhotoImage(file=\"icon.png\")\n",
    "# root.iconphoto(False,image_icon)\n",
    "\n",
    "def generate():\n",
    "    name=title.get()\n",
    "    text=entry.get()\n",
    "    qr=qrcode.make(text)\n",
    "    qr.save(\"C:/Users/91870/Desktop/SUMMER SCHOOL/QR/\"+str(name)+\".png\")\n",
    "    \n",
    "    global Image #will show qr code directly on the interface\n",
    "    Image=PhotoImage(file=\"C:/Users/91870/Desktop/SUMMER SCHOOL/Tkinter Projects/QR/\"+str(name)+\".png\")\n",
    "    Image_view.config(image=Image)\n",
    "    \n",
    "Image_view=Label(root,bg=\"#7F8487\")\n",
    "Image_view.pack(padx=50,pady=10,side=RIGHT)\n",
    "\n",
    "\n",
    "Label(root,text=\"Enter the Title\",fg=\"white\",bg=\"#7F8487\", font=25).place(x=50,y=190)\n",
    "title=Entry(root,width=13,font=\"arial 15\")\n",
    "title.place(x=50,y=220)\n",
    "\n",
    "Label(root,text=\"Enter the Link\",fg=\"white\",bg=\"#7F8487\", font=25).place(x=50,y=270)\n",
    "entry=Entry(root,width=28,font=\"arial 15\")\n",
    "entry.place(x=50,y=300)\n",
    "\n",
    "Button(root,text=\"Generate\",width=20,height=2,bg=\"black\",fg=\"white\",command=generate).place(x=50,y=370)\n",
    "\n",
    "root.mainloop()"
   ]
  },
  {
   "cell_type": "code",
   "execution_count": null,
   "id": "5f9e0734",
   "metadata": {},
   "outputs": [],
   "source": []
  }
 ],
 "metadata": {
  "kernelspec": {
   "display_name": "Python 3.10.2 64-bit",
   "language": "python",
   "name": "python3"
  },
  "language_info": {
   "codemirror_mode": {
    "name": "ipython",
    "version": 3
   },
   "file_extension": ".py",
   "mimetype": "text/x-python",
   "name": "python",
   "nbconvert_exporter": "python",
   "pygments_lexer": "ipython3",
   "version": "3.10.2"
  },
  "vscode": {
   "interpreter": {
    "hash": "55e5399ab1ac3676683f7515c6e63b7cd1b900de62163f5373f46a213bb5c518"
   }
  }
 },
 "nbformat": 4,
 "nbformat_minor": 5
}
